{
 "cells": [
  {
   "cell_type": "code",
   "execution_count": null,
   "id": "1caabae8-ec0b-4289-a5c7-d06715d70f04",
   "metadata": {},
   "outputs": [],
   "source": [
    "!pip install pandas openpyxl\n"
   ]
  },
  {
   "cell_type": "code",
   "execution_count": 1,
   "id": "1488004c-63c5-493f-b519-d1cbc5390ca9",
   "metadata": {},
   "outputs": [],
   "source": [
    "import os\n",
    "import pandas as pd\n",
    "from openpyxl import load_workbook\n",
    "\n",
    "def extraer_metadata_de_subcarpetas(ruta_carpeta_madre):\n",
    "    # Lista para almacenar los datos de cada archivo\n",
    "    datos = []\n",
    "    \n",
    "    # Iterar a través de todas las subcarpetas y archivos en la carpeta madre\n",
    "    for root, dirs, files in os.walk(ruta_carpeta_madre):\n",
    "        for file in files:\n",
    "            if file.endswith(('.xlsx', '.xls')):\n",
    "                # Construir la ruta completa del archivo\n",
    "                file_path = os.path.join(root, file)\n",
    "                \n",
    "                # Intentar leer la propiedad del autor del archivo Excel\n",
    "                try:\n",
    "                    wb = load_workbook(file_path, read_only=True, data_only=True)\n",
    "                    author = wb.properties.author\n",
    "                except Exception as e:\n",
    "                    author = \"Desconocido\"\n",
    "                \n",
    "                # Obtener metadata del archivo\n",
    "                stat = os.stat(file_path)\n",
    "                datos.append({\n",
    "                    \"Nombre de la Carpeta\": os.path.basename(root),\n",
    "                    \"Nombre del Archivo\": file,\n",
    "                    \"Fecha de Creación\": stat.st_ctime,\n",
    "                    \"Última Fecha de Modificación\": stat.st_mtime,\n",
    "                    \"Tamaño (Bytes)\": stat.st_size,\n",
    "                    \"Autor\": author\n",
    "                })\n",
    "                \n",
    "    # Crear un DataFrame con los datos recopilados\n",
    "    df = pd.DataFrame(datos)\n",
    "    \n",
    "    # Escribir el DataFrame a un archivo Excel\n",
    "    df.to_excel(\"metadata_de_subcarpetas.xlsx\", index=False)\n",
    "\n",
    "# Ejecuta la función con la ruta de tu carpeta madre\n",
    "ruta_carpeta_madre = \"C:\\\\Users\\\\HP\\\\Downloads\\\\Class_4545208_Assignment_45693717\"\n",
    "extraer_metadata_de_subcarpetas(ruta_carpeta_madre)\n"
   ]
  },
  {
   "cell_type": "code",
   "execution_count": null,
   "id": "18448394-ee7d-457c-9c8d-68872b80f04d",
   "metadata": {},
   "outputs": [],
   "source": []
  }
 ],
 "metadata": {
  "kernelspec": {
   "display_name": "Python 3 (ipykernel)",
   "language": "python",
   "name": "python3"
  },
  "language_info": {
   "codemirror_mode": {
    "name": "ipython",
    "version": 3
   },
   "file_extension": ".py",
   "mimetype": "text/x-python",
   "name": "python",
   "nbconvert_exporter": "python",
   "pygments_lexer": "ipython3",
   "version": "3.11.7"
  }
 },
 "nbformat": 4,
 "nbformat_minor": 5
}
